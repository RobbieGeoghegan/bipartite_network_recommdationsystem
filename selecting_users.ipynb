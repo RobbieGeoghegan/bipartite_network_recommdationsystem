{
 "cells": [
  {
   "cell_type": "code",
   "execution_count": 12,
   "metadata": {},
   "outputs": [],
   "source": [
    "import pandas as pd\n",
    "import random"
   ]
  },
  {
   "cell_type": "code",
   "execution_count": 88,
   "metadata": {},
   "outputs": [],
   "source": [
    "raw_df = pd.read_csv(\"kindle_reviews.csv\")\n",
    "raw_df = raw_df.drop('Unnamed: 0', 1)"
   ]
  },
  {
   "cell_type": "code",
   "execution_count": 89,
   "metadata": {},
   "outputs": [],
   "source": [
    "#Extract 200 users randomly\n",
    "list_of_users = raw_df.groupby('reviewerID')['reviewerID'].count()\n",
    "list_of_users.head().index\n",
    "\n",
    "#select random numbers between 0 and len of list_of_users\n",
    "random.seed(1337)\n",
    "my_randoms = random.sample(range(len(list_of_users)), 200)\n",
    "#save list of users reviewer IDs\n",
    "users = list_of_users.iloc[my_randoms].index"
   ]
  },
  {
   "cell_type": "code",
   "execution_count": 92,
   "metadata": {},
   "outputs": [
    {
     "name": "stdout",
     "output_type": "stream",
     "text": [
      "Did grouping work:  True\n",
      "Average number of reviews per user:  15.995\n"
     ]
    }
   ],
   "source": [
    "#Create new df with subset of users\n",
    "df = raw_df[raw_df['reviewerID'].isin(users)]\n",
    "#Test worked properly\n",
    "print(\"Did grouping work: \", 200 == len(df.groupby('reviewerID')['reviewerID'].count()))\n",
    "print(\"Average number of reviews per user: \", len(df) / 200)"
   ]
  },
  {
   "cell_type": "code",
   "execution_count": 93,
   "metadata": {},
   "outputs": [
    {
     "data": {
      "text/html": [
       "<div>\n",
       "<style scoped>\n",
       "    .dataframe tbody tr th:only-of-type {\n",
       "        vertical-align: middle;\n",
       "    }\n",
       "\n",
       "    .dataframe tbody tr th {\n",
       "        vertical-align: top;\n",
       "    }\n",
       "\n",
       "    .dataframe thead th {\n",
       "        text-align: right;\n",
       "    }\n",
       "</style>\n",
       "<table border=\"1\" class=\"dataframe\">\n",
       "  <thead>\n",
       "    <tr style=\"text-align: right;\">\n",
       "      <th></th>\n",
       "      <th>asin</th>\n",
       "      <th>helpful</th>\n",
       "      <th>overall</th>\n",
       "      <th>reviewText</th>\n",
       "      <th>reviewTime</th>\n",
       "      <th>reviewerID</th>\n",
       "      <th>reviewerName</th>\n",
       "      <th>summary</th>\n",
       "      <th>unixReviewTime</th>\n",
       "    </tr>\n",
       "  </thead>\n",
       "  <tbody>\n",
       "    <tr>\n",
       "      <th>171</th>\n",
       "      <td>B000JML1QG</td>\n",
       "      <td>[0, 0]</td>\n",
       "      <td>2</td>\n",
       "      <td>It had never sunk in to me that these stories ...</td>\n",
       "      <td>07 4, 2013</td>\n",
       "      <td>A2Q27OP8IVKVU3</td>\n",
       "      <td>L. WILLIAMS \"Truth Seeker\"</td>\n",
       "      <td>Bad idea</td>\n",
       "      <td>1372896000</td>\n",
       "    </tr>\n",
       "    <tr>\n",
       "      <th>431</th>\n",
       "      <td>B000MV9B66</td>\n",
       "      <td>[1, 1]</td>\n",
       "      <td>4</td>\n",
       "      <td>I've been trying a few of the Kindle newspaper...</td>\n",
       "      <td>01 30, 2011</td>\n",
       "      <td>A1EBFGZ1FZWI4O</td>\n",
       "      <td>&amp;#34;Dan&amp;#34;</td>\n",
       "      <td>Not the actual newspaper but not bad at all</td>\n",
       "      <td>1296345600</td>\n",
       "    </tr>\n",
       "    <tr>\n",
       "      <th>655</th>\n",
       "      <td>B000R93DJE</td>\n",
       "      <td>[0, 0]</td>\n",
       "      <td>3</td>\n",
       "      <td>It was a cute book, but very short.  I have en...</td>\n",
       "      <td>02 6, 2011</td>\n",
       "      <td>A3A76O76JI1GEZ</td>\n",
       "      <td>MissyBelle</td>\n",
       "      <td>Kinda Short</td>\n",
       "      <td>1296950400</td>\n",
       "    </tr>\n",
       "    <tr>\n",
       "      <th>954</th>\n",
       "      <td>B000WSFBO0</td>\n",
       "      <td>[0, 0]</td>\n",
       "      <td>4</td>\n",
       "      <td>This collection of stories was shockingly well...</td>\n",
       "      <td>03 3, 2014</td>\n",
       "      <td>AIIY3MCW8VD74</td>\n",
       "      <td>Sara Ruth Willingham</td>\n",
       "      <td>Really good!</td>\n",
       "      <td>1393804800</td>\n",
       "    </tr>\n",
       "    <tr>\n",
       "      <th>1406</th>\n",
       "      <td>B0016IXM96</td>\n",
       "      <td>[2, 2]</td>\n",
       "      <td>4</td>\n",
       "      <td>This short novella was in deed, a very H-O-T r...</td>\n",
       "      <td>06 13, 2011</td>\n",
       "      <td>A1A2UUBPN2AMTO</td>\n",
       "      <td>Nina</td>\n",
       "      <td>Hot lovin' that burns the pages!</td>\n",
       "      <td>1307923200</td>\n",
       "    </tr>\n",
       "  </tbody>\n",
       "</table>\n",
       "</div>"
      ],
      "text/plain": [
       "            asin helpful  overall  \\\n",
       "171   B000JML1QG  [0, 0]        2   \n",
       "431   B000MV9B66  [1, 1]        4   \n",
       "655   B000R93DJE  [0, 0]        3   \n",
       "954   B000WSFBO0  [0, 0]        4   \n",
       "1406  B0016IXM96  [2, 2]        4   \n",
       "\n",
       "                                             reviewText   reviewTime  \\\n",
       "171   It had never sunk in to me that these stories ...   07 4, 2013   \n",
       "431   I've been trying a few of the Kindle newspaper...  01 30, 2011   \n",
       "655   It was a cute book, but very short.  I have en...   02 6, 2011   \n",
       "954   This collection of stories was shockingly well...   03 3, 2014   \n",
       "1406  This short novella was in deed, a very H-O-T r...  06 13, 2011   \n",
       "\n",
       "          reviewerID                reviewerName  \\\n",
       "171   A2Q27OP8IVKVU3  L. WILLIAMS \"Truth Seeker\"   \n",
       "431   A1EBFGZ1FZWI4O               &#34;Dan&#34;   \n",
       "655   A3A76O76JI1GEZ                  MissyBelle   \n",
       "954    AIIY3MCW8VD74        Sara Ruth Willingham   \n",
       "1406  A1A2UUBPN2AMTO                        Nina   \n",
       "\n",
       "                                          summary  unixReviewTime  \n",
       "171                                      Bad idea      1372896000  \n",
       "431   Not the actual newspaper but not bad at all      1296345600  \n",
       "655                                   Kinda Short      1296950400  \n",
       "954                                  Really good!      1393804800  \n",
       "1406             Hot lovin' that burns the pages!      1307923200  "
      ]
     },
     "execution_count": 93,
     "metadata": {},
     "output_type": "execute_result"
    }
   ],
   "source": [
    "df.head()"
   ]
  }
 ],
 "metadata": {
  "kernelspec": {
   "display_name": "Python 3",
   "language": "python",
   "name": "python3"
  },
  "language_info": {
   "codemirror_mode": {
    "name": "ipython",
    "version": 3
   },
   "file_extension": ".py",
   "mimetype": "text/x-python",
   "name": "python",
   "nbconvert_exporter": "python",
   "pygments_lexer": "ipython3",
   "version": "3.7.3"
  }
 },
 "nbformat": 4,
 "nbformat_minor": 2
}
